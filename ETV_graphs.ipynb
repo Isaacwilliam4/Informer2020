{
  "cells": [
    {
      "cell_type": "code",
      "execution_count": 137,
      "metadata": {
        "id": "0jrnzBKV5O2P"
      },
      "outputs": [],
      "source": [
        "import numpy as np\n",
        "import pandas as pd\n",
        "import networkx as nx\n",
        "import matplotlib.pyplot as plt\n",
        "import random"
      ]
    },
    {
      "cell_type": "markdown",
      "metadata": {
        "id": "Tw9-yFpbavol"
      },
      "source": [
        "**Sample Data Generation**"
      ]
    },
    {
      "cell_type": "code",
      "execution_count": 138,
      "metadata": {
        "id": "ZAHlRBCziLB0"
      },
      "outputs": [],
      "source": [
        "# n     = num of nodes (0 to n-1 inclusive)\n",
        "# t     = num of timesteps (0 to t inclusive)\n",
        "# alpha = percentage of edges that have sin functions, the rest are zero edges (not deleted)\n",
        "# seed  = seed number used for randomization sin functions and their distribution in the graph\n",
        "def generate_graph_vals(n=10, t=1000, alpha=0.4, seed=123):\n",
        "\n",
        "  ### PREP RNG - requires: n, alpha, seed ###\n",
        "  random.seed(seed)\n",
        "  sin_edges = random.sample(range(int(n*(n-1))), int(n*(n-1)*alpha))\n",
        "\n",
        "  ### SET VALUES FOR EACH TIME STEP - requires: n, t, sin_edges ###\n",
        "  vals = np.zeros(shape=(t+1, int(n*(n-1))))\n",
        "  for edge_index in range(int(n*(n-1))):\n",
        "    if edge_index not in sin_edges:\n",
        "      continue\n",
        "    a = random.uniform(-10, 10)\n",
        "    b = random.uniform(-10, 10)\n",
        "    for time in list(range(0,t+1)):\n",
        "      vals[time, edge_index] = a + b * np.sin(time)\n",
        "\n",
        "  return vals"
      ]
    },
    {
      "cell_type": "code",
      "execution_count": 139,
      "metadata": {
        "id": "nG9KfOcS5O2V"
      },
      "outputs": [],
      "source": [
        "# currently only supports a complete graph (uses edge count to calculate node count)\n",
        "# vals = an ndarray with dimensions (time, edge_index) to get an edge weight\n",
        "def setup_graphs(vals):\n",
        "\n",
        "  ### Recover Node Count ###\n",
        "  n = int(1/2 + np.sqrt(1 + 4*vals.shape[1])/2)\n",
        "  if vals.shape[1] != n*(n-1):\n",
        "    print(\"The values given do not form a complete graph: this logic has not been implemented.\")\n",
        "\n",
        "  ### SET UP ONE GRAPH FOR EACH TIME STEP - requires: n, t, vals ###\n",
        "  graphs = []\n",
        "  for time in range(vals.shape[0]):\n",
        "    G = nx.complete_graph(n, nx.DiGraph())\n",
        "    edge_index = 0\n",
        "    for (start, end) in G.edges:\n",
        "      G.add_edge(start, end, index=edge_index, weight=vals[time, edge_index])\n",
        "      edge_index += 1\n",
        "    graphs.append(G)\n",
        "\n",
        "  return graphs"
      ]
    },
    {
      "cell_type": "markdown",
      "metadata": {
        "id": "ZcIPCqWCa2A5"
      },
      "source": [
        "**Logic For Generating / Accessing ETV Graphs**\n",
        "(Edge-to-Vertex)"
      ]
    },
    {
      "cell_type": "code",
      "execution_count": 140,
      "metadata": {
        "id": "x1uezqpjGCiI"
      },
      "outputs": [],
      "source": [
        "### THE DYNAMIC ACCESS OF ETV NODES GIVEN A PRIMAL EDGE ###\n",
        "\n",
        "def get_ETV_node(primal_G, edge_index):\n",
        "  edge = list(primal_G.edges)[edge_index] # Unpacking the entire edge list may be slowing it down\n",
        "  node_data = {'edge': (edge[0], edge[1]), 'weight': primal_G.get_edge_data(edge[0], edge[1])['weight']}\n",
        "  return (edge_index, node_data)"
      ]
    },
    {
      "cell_type": "code",
      "execution_count": 141,
      "metadata": {
        "id": "bgC_WI85ApCy"
      },
      "outputs": [],
      "source": [
        "### a helper function for get_ETV_edges() to reduce code duplication ###\n",
        "\n",
        "# Does not support self-loops neighboring themselves (would it be an in-out relation only?)\n",
        "def make_ETV_edge(node, edge_1, edge_2, neighbor_type):\n",
        "\n",
        "  ### logic for self-loops ###\n",
        "  if edge_1 == edge_2:\n",
        "    return {}\n",
        "\n",
        "  ### Order the edge indexes in-order ###\n",
        "  # elif edge_1 < edge_2:\n",
        "  #   edge_name = (edge_1, edge_2)\n",
        "  # else:\n",
        "  #   edge_name = (edge_2, edge_1)\n",
        "\n",
        "  edge_name = (edge_1, edge_2)\n",
        "\n",
        "  return {edge_name: {'primal_node': node, 'type': neighbor_type}}"
      ]
    },
    {
      "cell_type": "code",
      "execution_count": 142,
      "metadata": {
        "id": "lwT2nCJSYVse"
      },
      "outputs": [],
      "source": [
        "### THE DYNAMIC ACCESS OF ETV EDGES GIVEN A PRIMAL NODE ###\n",
        "\n",
        "def get_ETV_edges(primal_G, node):\n",
        "  ETV_edges = {}\n",
        "\n",
        "  ### Each node in the primal becomes an edge in the ETVs according to the direction the edges face eachother ###\n",
        "  for (start_1, end_1, attr_1) in primal_G.in_edges(node, data=True):\n",
        "    for (start_2, end_2, attr_2) in primal_G.in_edges(node, data=True):\n",
        "      ETV_edges |= make_ETV_edge(node, attr_1['index'], attr_2['index'], 'in-in')\n",
        "    for (start_2, end_2, attr_2) in primal_G.out_edges(node, data=True):\n",
        "      ETV_edges |= make_ETV_edge(node, attr_1['index'], attr_2['index'], 'in-out')\n",
        "  for (start_1, end_1, attr_1) in primal_G.out_edges(node, data=True):\n",
        "    for (start_2, end_2, attr_2) in primal_G.out_edges(node, data=True):\n",
        "      ETV_edges |= make_ETV_edge(node, attr_1['index'], attr_2['index'], 'out-out')\n",
        "\n",
        "  return ETV_edges"
      ]
    },
    {
      "cell_type": "code",
      "execution_count": 143,
      "metadata": {
        "id": "Gh0TZozX5O2e"
      },
      "outputs": [],
      "source": [
        "### THE STATIC MAKE-ENTIRE-ETV GIVEN A PRIMAL GRAPH ###\n",
        "# uses the dynamic methods to reduce code duplication, but returns the entire ETV graph\n",
        "\n",
        "def create_ETV_graphs(primal_G_list):\n",
        "\n",
        "  ETV_list = []\n",
        "\n",
        "  for primal_G in primal_G_list: # one for each timestep\n",
        "\n",
        "    ### Create new undirected ETV graphs ##\n",
        "    ETV_G = nx.MultiGraph()\n",
        "\n",
        "    ### Each edge in the primal becomes a node in the ETV graphs ###\n",
        "    for edge_index in range(len(primal_G.edges)):\n",
        "      node, node_data = get_ETV_node(primal_G, edge_index)\n",
        "      ETV_G.add_node(node, **node_data)\n",
        "\n",
        "    ### Each node in the primal becomes an edge in the ETVs according to the direction the edges face eachother ###\n",
        "    for node in primal_G.nodes:\n",
        "      ETV_edges = get_ETV_edges(primal_G, node)\n",
        "      for edge_name in ETV_edges.keys():\n",
        "        ETV_G.add_edge(*edge_name, **ETV_edges[edge_name])\n",
        "\n",
        "    ### Save the ETV graphs from this timestep ###\n",
        "    ETV_list.append(ETV_G)\n",
        "\n",
        "  return ETV_list"
      ]
    },
    {
      "cell_type": "markdown",
      "metadata": {
        "id": "h107qr85bD42"
      },
      "source": [
        "**Printing and Display Functions**"
      ]
    },
    {
      "cell_type": "code",
      "execution_count": 144,
      "metadata": {
        "id": "ShxxaHoOvUTV"
      },
      "outputs": [],
      "source": [
        "def show_graph(graph):\n",
        "  nx.draw(graph, with_labels=True, node_color='lightblue', node_size=500, font_size=12, arrows=True)"
      ]
    },
    {
      "cell_type": "code",
      "execution_count": 145,
      "metadata": {
        "id": "FJn1LvdEvqH3"
      },
      "outputs": [],
      "source": [
        "def print_graph_data(graph):\n",
        "  for node, data in graph.nodes(data=True):\n",
        "    print(f\"The data of node {node} is {data}\")\n",
        "  for start, end, data in graph.edges(data=True):\n",
        "    print(f\"The data of edge ({start}, {end}) is {data}\")"
      ]
    },
    {
      "cell_type": "code",
      "execution_count": 146,
      "metadata": {
        "id": "J_GSt2lTHX8e"
      },
      "outputs": [],
      "source": [
        "def print_ETV_data_dynamic(primal_G):\n",
        "  for edge_index in range(len(primal_G.edges)):\n",
        "    node, node_data = get_ETV_node(primal_G, edge_index)\n",
        "    print(f\"The data of node {node} is {node_data}\")\n",
        "\n",
        "  for node in primal_G.nodes:\n",
        "    ETV_edges = get_ETV_edges(primal_G, node)\n",
        "    for edge_name in ETV_edges.keys():\n",
        "      print(f\"The data of edge {edge_name} is {ETV_edges[edge_name]}\")"
      ]
    },
    {
      "cell_type": "markdown",
      "metadata": {
        "id": "b6llcLPzbH78"
      },
      "source": [
        "**Playground**"
      ]
    },
    {
      "cell_type": "code",
      "execution_count": 147,
      "metadata": {
        "id": "Z1urEGhyGYM1"
      },
      "outputs": [],
      "source": [
        "# Generates an instance and saves weights to file array.txt\n",
        "vals = generate_graph_vals(n=3, t=2, alpha=0.4, seed=0)\n",
        "np.savetxt('./array.txt', vals)\n",
        "primal_g_list = setup_graphs(vals)\n",
        "ETV_list = create_ETV_graphs(primal_g_list)"
      ]
    },
    {
      "cell_type": "code",
      "execution_count": 148,
      "metadata": {
        "colab": {
          "base_uri": "https://localhost:8080/"
        },
        "id": "Xn7_5qRd5O2c",
        "outputId": "b18ecc7e-fe19-4127-b2a6-edbedccfffe0"
      },
      "outputs": [
        {
          "name": "stdout",
          "output_type": "stream",
          "text": [
            "The data of node 0 is {}\n",
            "The data of node 1 is {}\n",
            "The data of node 2 is {}\n",
            "The data of edge (0, 1) is {'index': 0, 'weight': 0.0}\n",
            "The data of edge (0, 2) is {'index': 1, 'weight': 0.0}\n",
            "The data of edge (1, 0) is {'index': 2, 'weight': 0.0}\n",
            "The data of edge (1, 2) is {'index': 3, 'weight': -9.190312436384449}\n",
            "The data of edge (2, 0) is {'index': 4, 'weight': 0.0}\n",
            "The data of edge (2, 1) is {'index': 5, 'weight': -0.28144606874374745}\n"
          ]
        }
      ],
      "source": [
        "# Print the nodes and edges of the primal graph\n",
        "print_graph_data(primal_g_list[0])"
      ]
    },
    {
      "cell_type": "code",
      "execution_count": 149,
      "metadata": {
        "colab": {
          "base_uri": "https://localhost:8080/"
        },
        "id": "R3KpvjYI5O2h",
        "outputId": "93d5513a-2845-4bea-8ec8-8658e158c54a"
      },
      "outputs": [
        {
          "name": "stdout",
          "output_type": "stream",
          "text": [
            "The data of node 0 is {'edge': (0, 1), 'weight': 0.0}\n",
            "The data of node 1 is {'edge': (0, 2), 'weight': 0.0}\n",
            "The data of node 2 is {'edge': (1, 0), 'weight': 0.0}\n",
            "The data of node 3 is {'edge': (1, 2), 'weight': -9.190312436384449}\n",
            "The data of node 4 is {'edge': (2, 0), 'weight': 0.0}\n",
            "The data of node 5 is {'edge': (2, 1), 'weight': -0.28144606874374745}\n",
            "The data of edge (0, 2) is {'primal_node': 0, 'type': 'in-out'}\n",
            "The data of edge (0, 2) is {'primal_node': 1, 'type': 'in-out'}\n",
            "The data of edge (0, 4) is {'primal_node': 0, 'type': 'in-out'}\n",
            "The data of edge (0, 1) is {'primal_node': 0, 'type': 'out-out'}\n",
            "The data of edge (0, 1) is {'primal_node': 0, 'type': 'out-out'}\n",
            "The data of edge (0, 5) is {'primal_node': 1, 'type': 'in-in'}\n",
            "The data of edge (0, 5) is {'primal_node': 1, 'type': 'in-in'}\n",
            "The data of edge (0, 3) is {'primal_node': 1, 'type': 'in-out'}\n",
            "The data of edge (1, 2) is {'primal_node': 0, 'type': 'in-out'}\n",
            "The data of edge (1, 4) is {'primal_node': 0, 'type': 'in-out'}\n",
            "The data of edge (1, 4) is {'primal_node': 2, 'type': 'in-out'}\n",
            "The data of edge (1, 3) is {'primal_node': 2, 'type': 'in-in'}\n",
            "The data of edge (1, 3) is {'primal_node': 2, 'type': 'in-in'}\n",
            "The data of edge (1, 5) is {'primal_node': 2, 'type': 'in-out'}\n",
            "The data of edge (2, 4) is {'primal_node': 0, 'type': 'in-in'}\n",
            "The data of edge (2, 4) is {'primal_node': 0, 'type': 'in-in'}\n",
            "The data of edge (2, 5) is {'primal_node': 1, 'type': 'in-out'}\n",
            "The data of edge (2, 3) is {'primal_node': 1, 'type': 'out-out'}\n",
            "The data of edge (2, 3) is {'primal_node': 1, 'type': 'out-out'}\n",
            "The data of edge (3, 5) is {'primal_node': 1, 'type': 'in-out'}\n",
            "The data of edge (3, 5) is {'primal_node': 2, 'type': 'in-out'}\n",
            "The data of edge (3, 4) is {'primal_node': 2, 'type': 'in-out'}\n",
            "The data of edge (4, 5) is {'primal_node': 2, 'type': 'out-out'}\n",
            "The data of edge (4, 5) is {'primal_node': 2, 'type': 'out-out'}\n"
          ]
        }
      ],
      "source": [
        "# Print the nodes and edges of the static ETV graph\n",
        "print_graph_data(ETV_list[0])"
      ]
    },
    {
      "cell_type": "code",
      "execution_count": 150,
      "metadata": {
        "colab": {
          "base_uri": "https://localhost:8080/"
        },
        "id": "cy0n7oBWT4r_",
        "outputId": "4e0cc100-1a3a-4b40-cb38-ecaf1c8a73b0"
      },
      "outputs": [
        {
          "name": "stdout",
          "output_type": "stream",
          "text": [
            "The data of node 0 is {'edge': (0, 1), 'weight': 0.0}\n",
            "The data of node 1 is {'edge': (0, 2), 'weight': 0.0}\n",
            "The data of node 2 is {'edge': (1, 0), 'weight': 0.0}\n",
            "The data of node 3 is {'edge': (1, 2), 'weight': -9.190312436384449}\n",
            "The data of node 4 is {'edge': (2, 0), 'weight': 0.0}\n",
            "The data of node 5 is {'edge': (2, 1), 'weight': -0.28144606874374745}\n",
            "The data of edge (2, 4) is {'primal_node': 0, 'type': 'in-in'}\n",
            "The data of edge (2, 0) is {'primal_node': 0, 'type': 'in-out'}\n",
            "The data of edge (2, 1) is {'primal_node': 0, 'type': 'in-out'}\n",
            "The data of edge (4, 2) is {'primal_node': 0, 'type': 'in-in'}\n",
            "The data of edge (4, 0) is {'primal_node': 0, 'type': 'in-out'}\n",
            "The data of edge (4, 1) is {'primal_node': 0, 'type': 'in-out'}\n",
            "The data of edge (0, 1) is {'primal_node': 0, 'type': 'out-out'}\n",
            "The data of edge (1, 0) is {'primal_node': 0, 'type': 'out-out'}\n",
            "The data of edge (0, 5) is {'primal_node': 1, 'type': 'in-in'}\n",
            "The data of edge (0, 2) is {'primal_node': 1, 'type': 'in-out'}\n",
            "The data of edge (0, 3) is {'primal_node': 1, 'type': 'in-out'}\n",
            "The data of edge (5, 0) is {'primal_node': 1, 'type': 'in-in'}\n",
            "The data of edge (5, 2) is {'primal_node': 1, 'type': 'in-out'}\n",
            "The data of edge (5, 3) is {'primal_node': 1, 'type': 'in-out'}\n",
            "The data of edge (2, 3) is {'primal_node': 1, 'type': 'out-out'}\n",
            "The data of edge (3, 2) is {'primal_node': 1, 'type': 'out-out'}\n",
            "The data of edge (1, 3) is {'primal_node': 2, 'type': 'in-in'}\n",
            "The data of edge (1, 4) is {'primal_node': 2, 'type': 'in-out'}\n",
            "The data of edge (1, 5) is {'primal_node': 2, 'type': 'in-out'}\n",
            "The data of edge (3, 1) is {'primal_node': 2, 'type': 'in-in'}\n",
            "The data of edge (3, 4) is {'primal_node': 2, 'type': 'in-out'}\n",
            "The data of edge (3, 5) is {'primal_node': 2, 'type': 'in-out'}\n",
            "The data of edge (4, 5) is {'primal_node': 2, 'type': 'out-out'}\n",
            "The data of edge (5, 4) is {'primal_node': 2, 'type': 'out-out'}\n"
          ]
        }
      ],
      "source": [
        "# Print the nodes and edges of the dynamic ETV graph as they are generated\n",
        "print_ETV_data_dynamic(primal_g_list[0])"
      ]
    },
    {
      "cell_type": "code",
      "execution_count": 151,
      "metadata": {
        "colab": {
          "base_uri": "https://localhost:8080/",
          "height": 516
        },
        "id": "UAM7A0EB5O2Y",
        "outputId": "33f7366b-361a-4ace-de7f-a1840dc2efd4"
      },
      "outputs": [
        {
          "name": "stdout",
          "output_type": "stream",
          "text": [
            "{(2, 4): {'primal_node': 0, 'type': 'in-in'}, (2, 0): {'primal_node': 0, 'type': 'in-out'}, (2, 1): {'primal_node': 0, 'type': 'in-out'}, (4, 2): {'primal_node': 0, 'type': 'in-in'}, (4, 0): {'primal_node': 0, 'type': 'in-out'}, (4, 1): {'primal_node': 0, 'type': 'in-out'}, (0, 1): {'primal_node': 0, 'type': 'out-out'}, (1, 0): {'primal_node': 0, 'type': 'out-out'}}\n",
            "{(0, 5): {'primal_node': 1, 'type': 'in-in'}, (0, 2): {'primal_node': 1, 'type': 'in-out'}, (0, 3): {'primal_node': 1, 'type': 'in-out'}, (5, 0): {'primal_node': 1, 'type': 'in-in'}, (5, 2): {'primal_node': 1, 'type': 'in-out'}, (5, 3): {'primal_node': 1, 'type': 'in-out'}, (2, 3): {'primal_node': 1, 'type': 'out-out'}, (3, 2): {'primal_node': 1, 'type': 'out-out'}}\n"
          ]
        },
        {
          "data": {
            "image/png": "[encoded data removed]",
            "text/plain": [
              "<Figure size 640x480 with 1 Axes>"
            ]
          },
          "metadata": {},
          "output_type": "display_data"
        }
      ],
      "source": [
        "show_graph(primal_g_list[0])\n",
        "print(get_ETV_edges(primal_g_list[0], 0))\n",
        "print(get_ETV_edges(primal_g_list[0], 1))"
      ]
    },
    {
      "cell_type": "code",
      "execution_count": 152,
      "metadata": {
        "colab": {
          "base_uri": "https://localhost:8080/",
          "height": 516
        },
        "id": "gWv4E0G65O2f",
        "outputId": "fddf556e-3f22-4c2c-db17-5a1d675e53c8"
      },
      "outputs": [
        {
          "data": {
            "image/png": "[encoded data removed]",
            "text/plain": [
              "<Figure size 640x480 with 1 Axes>"
            ]
          },
          "metadata": {},
          "output_type": "display_data"
        }
      ],
      "source": [
        "show_graph(ETV_list[0])"
      ]
    },
    {
      "cell_type": "markdown",
      "metadata": {
        "id": "-kqH_d_6eu_k"
      },
      "source": [
        "**The Trash Bin**"
      ]
    },
    {
      "cell_type": "code",
      "execution_count": 153,
      "metadata": {
        "id": "fCCy08vlLoPL"
      },
      "outputs": [],
      "source": [
        "### a practically useless function, this makes the entire graph and does a lot of duplicate work along the way ###\n",
        "\n",
        "def get_ETV_edges_all(primal_G):\n",
        "  ETV_edges = {}\n",
        "\n",
        "  for (start_1, end_1, attr_1) in primal_G.edges(data=True):\n",
        "    for (start_2, end_2, attr_2) in primal_G.edges(data=True):\n",
        "      if end_1 == end_2:\n",
        "        ETV_edges |= make_ETV_edge(end_1,   attr_1['index'], attr_2['index'], 'in-in')\n",
        "      if end_1 == start_2:\n",
        "        ETV_edges |= make_ETV_edge(end_1,   attr_1['index'], attr_2['index'], 'in-out')\n",
        "      if start_1 == end_2:\n",
        "        ETV_edges |= make_ETV_edge(end_2,   attr_1['index'], attr_2['index'], 'in-out')\n",
        "      if start_1 == start_2:\n",
        "        ETV_edges |= make_ETV_edge(start_1, attr_1['index'], attr_2['index'], 'out-out')\n",
        "\n",
        "  return ETV_edges"
      ]
    },
    {
      "cell_type": "markdown",
      "metadata": {},
      "source": [
        "### Just learn"
      ]
    },
    {
      "cell_type": "code",
      "execution_count": 154,
      "metadata": {},
      "outputs": [],
      "source": [
        "# update matrix helper function\n",
        "# mat is matrix that is being updated\n",
        "# e1 and e2 are the edges of which we are adding the values to\n",
        "# w1 and w2 are the weights of those edges\n",
        "# both is a boolean if we need to add both to the matrix\n",
        "\n",
        "def update_mat(mat, e1, e2, w1, w2, both):\n",
        "    mat[e1]+= w2\n",
        "    if both:\n",
        "        mat[e2] += w1\n",
        "    return"
      ]
    },
    {
      "cell_type": "code",
      "execution_count": 162,
      "metadata": {},
      "outputs": [],
      "source": [
        "# function to get summation of neighboring values\n",
        "# formula for each node: v1(sum of neighbors values)\n",
        "# v1 is orignial value of the node we are finding value of, in order to prevent O value edges from having values\n",
        "# place new values in original adjacency matrix for all three types, in-in, out-out, in-out\n",
        "\n",
        "\n",
        "def get_partitions(primal_g):\n",
        "\n",
        "    num_nodes = primal_g.number_of_nodes()\n",
        "    in_in_mat = np.zeros((num_nodes, num_nodes))\n",
        "    out_out_mat = np.zeros((num_nodes, num_nodes))\n",
        "    in_out_mat = np.zeros((num_nodes, num_nodes))\n",
        "\n",
        "    for p_node in primal_g.nodes():\n",
        "        ETV_edges = get_ETV_edges(primal_g, p_node)\n",
        "\n",
        "        for key, value in ETV_edges.items():\n",
        "            id1, node1_val = get_ETV_node(primal_g, key[0])\n",
        "            id2, node2_val = get_ETV_node(primal_g, key[1])\n",
        "\n",
        "            edge1 = node1_val['edge']\n",
        "            edge2 = node2_val['edge']\n",
        "            w1 = node1_val['weight']\n",
        "            w2 = node2_val['weight']\n",
        "\n",
        "            if value['type'] == 'in-out':\n",
        "                if edge1 == (edge2[1], edge2[0]):\n",
        "                    update_mat(in_out_mat, edge1, edge2, w1, w2, both = False)\n",
        "                else:\n",
        "                    update_mat(in_out_mat, edge1, edge2, w1, w2, both = True)\n",
        "            \n",
        "            elif value['type'] == 'in-in':\n",
        "                update_mat(in_in_mat, edge1, edge2, w1, w2, both = True)\n",
        "\n",
        "            elif value['type'] == 'out-out':\n",
        "                update_mat(out_out_mat, edge1, edge2, w1, w2, both = True)\n",
        "\n",
        "\n",
        "    return in_in_mat, out_out_mat, in_out_mat\n",
        "\n",
        "in_in, out_out, in_out = get_partitions(primal_g_list[0])"
      ]
    },
    {
      "cell_type": "code",
      "execution_count": 165,
      "metadata": {},
      "outputs": [
        {
          "data": {
            "text/plain": [
              "array([[ 0.,  0.,  0.],\n",
              "       [-0.,  0., -0.],\n",
              "       [-0., -0.,  0.]])"
            ]
          },
          "execution_count": 165,
          "metadata": {},
          "output_type": "execute_result"
        }
      ],
      "source": [
        "in_in"
      ]
    }
  ],
  "metadata": {
    "colab": {
      "provenance": []
    },
    "kernelspec": {
      "display_name": "stat386",
      "language": "python",
      "name": "python3"
    },
    "language_info": {
      "codemirror_mode": {
        "name": "ipython",
        "version": 3
      },
      "file_extension": ".py",
      "mimetype": "text/x-python",
      "name": "python",
      "nbconvert_exporter": "python",
      "pygments_lexer": "ipython3",
      "version": "3.9.18"
    },
    "orig_nbformat": 4
  },
  "nbformat": 4,
  "nbformat_minor": 0
}
