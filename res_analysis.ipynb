{
 "cells": [
  {
   "cell_type": "code",
   "execution_count": 43,
   "metadata": {},
   "outputs": [],
   "source": [
    "import numpy as np\n",
    "import matplotlib.pyplot as plt\n",
    "\n",
    "pred = np.load('./informer_custom_ftM_sl96_ll48_pl24_dm512_nh8_el2_dl1_df2048_atprob_fc5_ebtimeF_dtTrue_mxTrue_simulated_graph_informer_test_1/pred.npy')\n",
    "true = np.load('./informer_custom_ftM_sl96_ll48_pl24_dm512_nh8_el2_dl1_df2048_atprob_fc5_ebtimeF_dtTrue_mxTrue_simulated_graph_informer_test_1/true.npy')\n"
   ]
  },
  {
   "cell_type": "code",
   "execution_count": 95,
   "metadata": {},
   "outputs": [
    {
     "data": {
      "text/plain": [
       "array([ 1.0548469e-01,  0.0000000e+00,  9.0963621e+00,  0.0000000e+00,\n",
       "       -6.7424327e-01,  3.5135326e+00,  2.5424154e+00,  0.0000000e+00,\n",
       "        2.5001667e+00,  3.9889190e+00,  0.0000000e+00,  1.1684307e+00,\n",
       "        0.0000000e+00,  2.4540884e+00,  0.0000000e+00,  0.0000000e+00,\n",
       "        0.0000000e+00,  4.7498245e+00,  0.0000000e+00,  0.0000000e+00,\n",
       "        7.6370344e+00,  0.0000000e+00,  0.0000000e+00,  0.0000000e+00,\n",
       "        0.0000000e+00,  0.0000000e+00,  0.0000000e+00,  0.0000000e+00,\n",
       "        1.8765630e+00,  0.0000000e+00,  0.0000000e+00, -6.3392243e+00,\n",
       "        0.0000000e+00,  0.0000000e+00, -2.5613344e+00,  0.0000000e+00,\n",
       "        0.0000000e+00,  0.0000000e+00,  0.0000000e+00,  0.0000000e+00,\n",
       "        1.0153559e+01,  0.0000000e+00, -8.5377035e+00, -7.2527795e+00,\n",
       "        0.0000000e+00,  0.0000000e+00,  5.8419830e-03,  0.0000000e+00,\n",
       "       -6.9771719e+00,  0.0000000e+00,  0.0000000e+00,  0.0000000e+00,\n",
       "       -6.7102346e+00,  0.0000000e+00,  0.0000000e+00, -1.1505231e+01,\n",
       "        0.0000000e+00, -5.0367241e+00,  0.0000000e+00,  0.0000000e+00,\n",
       "        0.0000000e+00,  0.0000000e+00,  0.0000000e+00,  0.0000000e+00,\n",
       "        0.0000000e+00,  9.3410463e+00,  0.0000000e+00,  0.0000000e+00,\n",
       "        8.6269789e+00,  1.0827709e+01,  0.0000000e+00, -5.5251346e+00,\n",
       "       -5.9528452e-01,  0.0000000e+00,  0.0000000e+00,  0.0000000e+00,\n",
       "        1.8839312e+00, -1.3463122e+01, -9.0350666e+00, -5.6724458e+00,\n",
       "       -2.2621534e+00,  0.0000000e+00, -1.3031315e+01,  0.0000000e+00,\n",
       "        0.0000000e+00,  0.0000000e+00,  0.0000000e+00, -7.7910323e+00,\n",
       "       -7.1827402e+00, -4.3583264e+00], dtype=float32)"
      ]
     },
     "execution_count": 95,
     "metadata": {},
     "output_type": "execute_result"
    }
   ],
   "source": [
    "true[100,0,:]"
   ]
  },
  {
   "cell_type": "code",
   "execution_count": 107,
   "metadata": {},
   "outputs": [
    {
     "data": {
      "text/plain": [
       "array([ 4.3139687e+00, -1.9590706e-03,  5.2931771e+00,  2.6669655e-02,\n",
       "       -3.2992170e+00,  4.0277405e+00,  3.9478300e+00,  2.2493241e-02,\n",
       "        1.9141656e+00,  3.9654846e+00, -4.4106513e-02, -1.6390400e+00,\n",
       "       -5.6409229e-02,  3.7565923e-01, -7.3483594e-02,  1.1931900e-02,\n",
       "       -6.8777859e-02,  2.0314484e+00, -4.7142144e-02, -3.2208949e-02,\n",
       "        5.2016506e+00, -3.3319496e-02, -3.0060675e-02,  1.0612828e-02,\n",
       "        1.3764236e-02, -3.8932301e-02,  3.0093037e-02, -5.0979763e-02,\n",
       "        2.8961377e+00, -5.3702738e-02,  6.3527204e-02, -6.1323485e+00,\n",
       "        7.3873565e-02, -6.9120869e-02, -4.6141829e+00, -5.6078933e-02,\n",
       "       -2.5607429e-02, -5.4377779e-02,  2.1197582e-02, -1.2229312e-02,\n",
       "        5.3574462e+00, -4.6490200e-02, -4.7309403e+00, -1.8537689e+00,\n",
       "        8.9897312e-02,  1.9375369e-02, -8.4037948e-01,  6.9143660e-03,\n",
       "       -2.2664199e+00,  2.4929732e-02,  1.1825770e-02, -2.5411509e-04,\n",
       "       -4.7944040e+00, -4.4097155e-03, -4.2441931e-02, -6.1765828e+00,\n",
       "       -5.9039515e-02, -4.0224600e+00,  6.0636988e-03, -5.8498457e-02,\n",
       "       -2.7537461e-02, -6.4166486e-03,  8.6155325e-02, -8.8066999e-03,\n",
       "       -3.6785483e-02,  3.4960177e+00,  4.2211168e-02, -2.2946462e-02,\n",
       "        2.2200806e+00,  5.7764034e+00, -7.2867379e-02, -3.3639815e+00,\n",
       "       -4.2486305e+00, -5.5946633e-03,  1.0487977e-01,  4.2911995e-02,\n",
       "       -1.1128466e+00, -5.8423042e+00, -4.0078940e+00, -2.8850133e+00,\n",
       "       -1.2657109e+00,  2.8922036e-04, -5.2305360e+00, -6.3939564e-02,\n",
       "        4.1972261e-02,  8.6615868e-03,  5.3219311e-04, -2.3462594e+00,\n",
       "       -1.3583217e+00,  6.9173169e-01], dtype=float32)"
      ]
     },
     "execution_count": 107,
     "metadata": {},
     "output_type": "execute_result"
    }
   ],
   "source": [
    "pred[100,0,:]"
   ]
  },
  {
   "cell_type": "code",
   "execution_count": 41,
   "metadata": {},
   "outputs": [
    {
     "data": {
      "text/plain": [
       "(345600,)"
      ]
     },
     "execution_count": 41,
     "metadata": {},
     "output_type": "execute_result"
    }
   ],
   "source": [
    "pred.shape"
   ]
  },
  {
   "cell_type": "code",
   "execution_count": 106,
   "metadata": {},
   "outputs": [
    {
     "data": {
      "text/plain": [
       "<matplotlib.collections.PathCollection at 0x2149734e450>"
      ]
     },
     "execution_count": 106,
     "metadata": {},
     "output_type": "execute_result"
    },
    {
     "data": {
      "image/png": "[encoded data removed]",
      "text/plain": [
       "<Figure size 640x480 with 1 Axes>"
      ]
     },
     "metadata": {},
     "output_type": "display_data"
    }
   ],
   "source": [
    "y = true[0,:,4]\n",
    "x = np.arange(len(y))\n",
    "plt.scatter(x,y)"
   ]
  },
  {
   "cell_type": "code",
   "execution_count": 110,
   "metadata": {},
   "outputs": [
    {
     "name": "stdout",
     "output_type": "stream",
     "text": [
      "0.978766\n"
     ]
    }
   ],
   "source": [
    "from sklearn.metrics import mean_absolute_percentage_error\n",
    "\n",
    "pred_ = pred[100,1,:]\n",
    "true_ = true[100,1,:]\n",
    "\n",
    "print(mean_absolute_percentage_error(pred_,true_))"
   ]
  },
  {
   "cell_type": "code",
   "execution_count": 29,
   "metadata": {},
   "outputs": [
    {
     "data": {
      "text/plain": [
       "0.6666666666666666"
      ]
     },
     "execution_count": 29,
     "metadata": {},
     "output_type": "execute_result"
    }
   ],
   "source": [
    "mean_absolute_percentage_error([60],[100])"
   ]
  },
  {
   "cell_type": "code",
   "execution_count": 26,
   "metadata": {},
   "outputs": [
    {
     "name": "stdout",
     "output_type": "stream",
     "text": [
      "4.480288\n",
      "11.292202\n"
     ]
    }
   ],
   "source": [
    "print(pred[99,0])\n",
    "print(true[99,0])\n"
   ]
  }
 ],
 "metadata": {
  "kernelspec": {
   "display_name": "informer",
   "language": "python",
   "name": "python3"
  },
  "language_info": {
   "codemirror_mode": {
    "name": "ipython",
    "version": 3
   },
   "file_extension": ".py",
   "mimetype": "text/x-python",
   "name": "python",
   "nbconvert_exporter": "python",
   "pygments_lexer": "ipython3",
   "version": "3.11.4"
  }
 },
 "nbformat": 4,
 "nbformat_minor": 2
}
