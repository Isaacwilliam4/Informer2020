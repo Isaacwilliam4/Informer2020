{
 "cells": [
  {
   "cell_type": "code",
   "execution_count": 3,
   "metadata": {},
   "outputs": [],
   "source": [
    "import numpy as np\n",
    "import matplotlib.pyplot as plt\n",
    "\n",
    "pred = np.load('./results/informer_custom_ftM_sl96_ll48_pl24_dm512_nh8_el2_dl1_df2048_atprob_fc5_ebtimeF_dtTrue_mxTrue_simulated_graph_informer_test_1/pred.npy')\n",
    "true = np.load('./results/informer_custom_ftM_sl96_ll48_pl24_dm512_nh8_el2_dl1_df2048_atprob_fc5_ebtimeF_dtTrue_mxTrue_simulated_graph_informer_test_1/true.npy')\n"
   ]
  },
  {
   "cell_type": "code",
   "execution_count": 23,
   "metadata": {},
   "outputs": [
    {
     "data": {
      "text/plain": [
       "15.094376"
      ]
     },
     "execution_count": 23,
     "metadata": {},
     "output_type": "execute_result"
    }
   ],
   "source": [
    "true[159,0,0]"
   ]
  },
  {
   "cell_type": "code",
   "execution_count": 5,
   "metadata": {},
   "outputs": [
    {
     "data": {
      "text/plain": [
       "array([ 3.99182081e+00, -9.94583815e-02,  5.63380861e+00,  6.89182281e-02,\n",
       "       -3.55324745e+00,  4.23862648e+00,  4.66620922e+00,  3.34074050e-02,\n",
       "        2.08820677e+00,  4.54874372e+00, -1.08710341e-02, -2.12135816e+00,\n",
       "        2.93826312e-03,  1.00662805e-01, -3.52304056e-02, -1.34973973e-01,\n",
       "        9.15168077e-02,  2.29200149e+00, -2.39700153e-01,  9.07368362e-02,\n",
       "        5.27716303e+00, -1.07797040e-02, -5.06873280e-02,  6.42434508e-02,\n",
       "        2.13121697e-02,  2.01504137e-02,  1.84860006e-02,  3.85277309e-02,\n",
       "        2.64988780e+00, -1.89510226e-01, -1.54286828e-02, -5.96993256e+00,\n",
       "       -6.73855022e-02,  4.23858128e-03, -4.69442987e+00,  1.01586720e-02,\n",
       "        1.01766869e-01, -7.43513629e-02,  5.59100658e-02, -5.40491194e-02,\n",
       "        5.34172964e+00, -9.39168185e-02, -4.80725288e+00, -1.64416015e+00,\n",
       "       -2.87151691e-02,  2.29689419e-01, -9.77456629e-01, -1.41925648e-01,\n",
       "       -2.80524778e+00, -3.61799151e-02,  9.85665694e-02,  1.07557036e-01,\n",
       "       -5.05323362e+00,  2.78517995e-02, -9.22584385e-02, -6.01573277e+00,\n",
       "       -4.03524786e-02, -3.95389175e+00, -1.94615219e-02, -3.74039635e-03,\n",
       "        8.12638998e-02, -2.51738671e-02, -3.81338410e-02, -1.83493748e-01,\n",
       "       -6.12361282e-02,  2.99283743e+00, -7.75370076e-02, -6.51550516e-02,\n",
       "        2.40556550e+00,  5.64726353e+00,  6.74499720e-02, -3.64778399e+00,\n",
       "       -4.46117401e+00, -3.84237058e-02,  7.29016364e-02, -5.31146675e-02,\n",
       "       -1.36141336e+00, -4.56530809e+00, -3.77046227e+00, -2.39249325e+00,\n",
       "       -1.07295716e+00,  8.23112652e-02, -4.50543118e+00,  4.88955341e-02,\n",
       "       -5.72965518e-02,  2.09971778e-02, -1.30853802e-02, -2.14724112e+00,\n",
       "       -9.82647181e-01,  1.03798676e+00], dtype=float32)"
      ]
     },
     "execution_count": 5,
     "metadata": {},
     "output_type": "execute_result"
    }
   ],
   "source": [
    "pred[100,0,:]"
   ]
  },
  {
   "cell_type": "code",
   "execution_count": 41,
   "metadata": {},
   "outputs": [
    {
     "data": {
      "text/plain": [
       "(345600,)"
      ]
     },
     "execution_count": 41,
     "metadata": {},
     "output_type": "execute_result"
    }
   ],
   "source": [
    "pred.shape"
   ]
  },
  {
   "cell_type": "code",
   "execution_count": 6,
   "metadata": {},
   "outputs": [
    {
     "data": {
      "text/plain": [
       "<matplotlib.collections.PathCollection at 0x163060e0b10>"
      ]
     },
     "execution_count": 6,
     "metadata": {},
     "output_type": "execute_result"
    },
    {
     "data": {
      "image/png": "[encoded data removed]",
      "text/plain": [
       "<Figure size 640x480 with 1 Axes>"
      ]
     },
     "metadata": {},
     "output_type": "display_data"
    }
   ],
   "source": [
    "y = true[0,:,4]\n",
    "y_hat = pred[]\n",
    "x = np.arange(len(y))\n",
    "plt.scatter(x,y)"
   ]
  },
  {
   "cell_type": "code",
   "execution_count": 16,
   "metadata": {},
   "outputs": [
    {
     "name": "stdout",
     "output_type": "stream",
     "text": [
      "1.5234836\n",
      "7.660579\n"
     ]
    }
   ],
   "source": [
    "from sklearn.metrics import mean_absolute_percentage_error\n",
    "from sklearn.metrics import mean_squared_error\n",
    "\n",
    "pred_ = pred[0,:,:]\n",
    "true_ = true[0,:,:]\n",
    "\n",
    "print(mean_absolute_percentage_error(pred_,true_))\n",
    "print(mean_squared_error(pred_,true_))"
   ]
  },
  {
   "cell_type": "code",
   "execution_count": 29,
   "metadata": {},
   "outputs": [
    {
     "data": {
      "text/plain": [
       "0.6666666666666666"
      ]
     },
     "execution_count": 29,
     "metadata": {},
     "output_type": "execute_result"
    }
   ],
   "source": [
    "mean_absolute_percentage_error([60],[100])"
   ]
  },
  {
   "cell_type": "code",
   "execution_count": 21,
   "metadata": {},
   "outputs": [
    {
     "name": "stdout",
     "output_type": "stream",
     "text": [
      "3.8223145\n",
      "15.170552\n"
     ]
    }
   ],
   "source": [
    "print(pred[99,3,0])\n",
    "print(true[99,3,0])\n"
   ]
  }
 ],
 "metadata": {
  "kernelspec": {
   "display_name": "informer",
   "language": "python",
   "name": "python3"
  },
  "language_info": {
   "codemirror_mode": {
    "name": "ipython",
    "version": 3
   },
   "file_extension": ".py",
   "mimetype": "text/x-python",
   "name": "python",
   "nbconvert_exporter": "python",
   "pygments_lexer": "ipython3",
   "version": "3.11.4"
  }
 },
 "nbformat": 4,
 "nbformat_minor": 2
}
